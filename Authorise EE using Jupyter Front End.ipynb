{
 "cells": [
  {
   "cell_type": "markdown",
   "metadata": {},
   "source": [
    "Taken from - https://github.com/google/earthengine-api/blob/master/python/examples/ipynb/authorize_notebook_server.ipynb"
   ]
  },
  {
   "cell_type": "code",
   "execution_count": null,
   "metadata": {},
   "outputs": [],
   "source": [
    "import ee\n",
    "\n",
    "#ee.Initialize()"
   ]
  },
  {
   "cell_type": "code",
   "execution_count": null,
   "metadata": {},
   "outputs": [],
   "source": [
    "try:\n",
    "  ee.Initialize()\n",
    "  print('The Earth Engine package initialized successfully!')\n",
    "except ee.EEException as e:\n",
    "  print('The Earth Engine package failed to initialize!')\n",
    "except:\n",
    "    print(\"Unexpected error:\", sys.exc_info()[0])\n",
    "    raise"
   ]
  },
  {
   "cell_type": "code",
   "execution_count": null,
   "metadata": {},
   "outputs": [],
   "source": [
    "%%bash\n",
    "earthengine authenticate --quiet"
   ]
  },
  {
   "cell_type": "markdown",
   "metadata": {},
   "source": [
    "below taken from - https://github.com/Vizzuality/data_sci_tutorials/blob/master/work/authorize_notebook_server.ipynb"
   ]
  },
  {
   "cell_type": "code",
   "execution_count": 3,
   "metadata": {},
   "outputs": [
    {
     "data": {
      "application/vnd.jupyter.widget-view+json": {
       "model_id": "",
       "version_major": 2,
       "version_minor": 0
      },
      "text/plain": [
       "VBox(children=(Button(button_style='danger', description='The server is not authorized to access Earth Engine'…"
      ]
     },
     "metadata": {},
     "output_type": "display_data"
    }
   ],
   "source": [
    "# Code to check if authorized to access Earth Engine.\n",
    "import ipywidgets\n",
    "import ee\n",
    "import io\n",
    "import os\n",
    "import urllib\n",
    "from IPython import display\n",
    "\n",
    "# Define layouts used by the form.\n",
    "row_wide_layout = ipywidgets.Layout(flex_flow=\"row nowrap\", align_items=\"center\", width=\"100%\")\n",
    "column_wide_layout = ipywidgets.Layout(flex_flow=\"column nowrap\", align_items=\"center\", width=\"100%\")\n",
    "column_auto_layout = ipywidgets.Layout(flex_flow=\"column nowrap\", align_items=\"center\", width=\"auto\")\n",
    "\n",
    "form_definition = {'form': None}\n",
    "response_box = ipywidgets.HTML('')\n",
    "\n",
    "def isAuthorized():\n",
    "  try:\n",
    "    ee.Initialize()\n",
    "    test = ee.Image(0).getInfo()\n",
    "  except:\n",
    "    return False\n",
    "  return True\n",
    "\n",
    "def ShowForm(auth_status_button, instructions):\n",
    "  \"\"\"Show a form to the user.\"\"\"\n",
    "  form_definition['form'] = ipywidgets.VBox([\n",
    "    auth_status_button,\n",
    "    instructions,\n",
    "    ipywidgets.VBox([response_box], layout=row_wide_layout)\n",
    "  ], layout=column_wide_layout)\n",
    "  display.display(form_definition.get('form'))\n",
    "\n",
    "def ShowAuthorizedForm():\n",
    "  \"\"\"Show a form for a server that is currently authorized to access Earth Engine.\"\"\"\n",
    "  def revoke_credentials(sender):\n",
    "    credentials = ee.oauth.get_credentials_path()\n",
    "    if os.path.exists(credentials):\n",
    "      os.remove(credentials)\n",
    "    response_box.value = ''\n",
    "    Init()\n",
    "  \n",
    "  auth_status_button = ipywidgets.Button(\n",
    "    layout=column_wide_layout,\n",
    "    disabled=True,\n",
    "    description='The server is authorized to access Earth Engine',\n",
    "    button_style='success',\n",
    "    icon='check'\n",
    "  )\n",
    "  \n",
    "  instructions = ipywidgets.Button(\n",
    "    layout = row_wide_layout,\n",
    "    description = 'Click here to revoke authorization',\n",
    "    disabled = False,\n",
    "  )\n",
    "  instructions.on_click(revoke_credentials)\n",
    "  \n",
    "  ShowForm(auth_status_button, instructions)\n",
    "\n",
    "def ShowUnauthorizedForm():\n",
    "  \"\"\"Show a form for a server that is not currently authorized to access Earth Engine.\"\"\"\n",
    "\n",
    "  auth_status_button = ipywidgets.Button(\n",
    "    layout=column_wide_layout,\n",
    "    button_style='danger',\n",
    "    description='The server is not authorized to access Earth Engine',\n",
    "    disabled=True\n",
    "  )\n",
    "    \n",
    "  auth_link = ipywidgets.HTML(\n",
    "    '<a href=\"{url}\" target=\"auth\">Open Authentication Tab</a><br/>'\n",
    "    .format(url=ee.oauth.get_authorization_url()\n",
    "    )\n",
    "  )\n",
    "    \n",
    "  instructions = ipywidgets.VBox(\n",
    "    [\n",
    "      ipywidgets.HTML(\n",
    "        'Click on the link below to start the authentication and authorization process. '\n",
    "        'Once you have received an authorization code, use it to replace the '\n",
    "        'REPLACE_WITH_AUTH_CODE in the code cell below and run the cell.'\n",
    "      ),\n",
    "      auth_link,\n",
    "    ],\n",
    "    layout=column_auto_layout\n",
    "  )\n",
    "  \n",
    "  ShowForm(auth_status_button, instructions)\n",
    "  \n",
    "def Init():\n",
    "  # If a form is currently displayed, close it.\n",
    "  if form_definition.get('form'):\n",
    "    form_definition['form'].close()\n",
    "  # Display the appropriate form according to whether the server is authorized.\n",
    "  if isAuthorized():\n",
    "    ShowAuthorizedForm()\n",
    "  else:\n",
    "    ShowUnauthorizedForm()\n",
    "    \n",
    "Init()"
   ]
  },
  {
   "cell_type": "code",
   "execution_count": 6,
   "metadata": {},
   "outputs": [
    {
     "data": {
      "application/vnd.jupyter.widget-view+json": {
       "model_id": "59625b8dd1bd4124a53c88e13d7d81fa",
       "version_major": 2,
       "version_minor": 0
      },
      "text/plain": [
       "VBox(children=(Button(button_style='success', description='The server is authorized to access Earth Engine', d…"
      ]
     },
     "metadata": {},
     "output_type": "display_data"
    },
    {
     "data": {
      "application/vnd.jupyter.widget-view+json": {
       "model_id": "6a1ca5a305104ea9bf3aa445587ed5db",
       "version_major": 2,
       "version_minor": 0
      },
      "text/plain": [
       "HTML(value='')"
      ]
     },
     "metadata": {},
     "output_type": "display_data"
    }
   ],
   "source": [
    "auth_code = '4/pAGJHV-fINBz-in0_NcJNQiX9rpJN-R8mu_SAG-3KKS04ffOhIErE74'\n",
    "\n",
    "response_box = ipywidgets.HTML('')\n",
    "try:\n",
    "  token = ee.oauth.request_token(auth_code.strip())\n",
    "  ee.oauth.write_token(token)\n",
    "  if isAuthorized():\n",
    "    Init()\n",
    "  else:\n",
    "    response_box.value = '<font color=\"red\">{0}</font>'.format(\n",
    "      'The account was authenticated, but does not have permission to access Earth Engine.'\n",
    "    )\n",
    "except Exception as e:\n",
    "  response_box.value = '<font color=\"red\">{0}</font>'.format(e)\n",
    "response_box"
   ]
  },
  {
   "cell_type": "code",
   "execution_count": 7,
   "metadata": {},
   "outputs": [
    {
     "data": {
      "text/html": [
       "<img src=\"https://earthengine.googleapis.com/api/thumb?thumbid=d08af4ea485456f2ca6ba058e1190e1b&token=c4654dc29bc74566b85e1a696dcd11f1\"/>"
      ],
      "text/plain": [
       "<IPython.core.display.Image object>"
      ]
     },
     "execution_count": 7,
     "metadata": {},
     "output_type": "execute_result"
    }
   ],
   "source": [
    "# Code to display an Earth Engine generated image.\n",
    "from IPython.display import Image\n",
    "\n",
    "url = ee.Image(\"CGIAR/SRTM90_V4\").getThumbUrl({'min':0, 'max':3000})\n",
    "Image(url=url)"
   ]
  },
  {
   "cell_type": "code",
   "execution_count": null,
   "metadata": {},
   "outputs": [],
   "source": []
  }
 ],
 "metadata": {
  "kernelspec": {
   "display_name": "Python 3",
   "language": "python",
   "name": "python3"
  },
  "language_info": {
   "codemirror_mode": {
    "name": "ipython",
    "version": 3
   },
   "file_extension": ".py",
   "mimetype": "text/x-python",
   "name": "python",
   "nbconvert_exporter": "python",
   "pygments_lexer": "ipython3",
   "version": "3.5.3"
  }
 },
 "nbformat": 4,
 "nbformat_minor": 2
}
