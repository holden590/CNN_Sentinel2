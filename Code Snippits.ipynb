{
 "cells": [
  {
   "cell_type": "markdown",
   "metadata": {},
   "source": [
    "# Useful code snippits"
   ]
  },
  {
   "cell_type": "code",
   "execution_count": null,
   "metadata": {},
   "outputs": [],
   "source": [
    "import numpy as np"
   ]
  },
  {
   "cell_type": "code",
   "execution_count": null,
   "metadata": {},
   "outputs": [],
   "source": [
    "#check you are running on 64bit\n",
    "print(np.intp)"
   ]
  },
  {
   "cell_type": "code",
   "execution_count": null,
   "metadata": {},
   "outputs": [],
   "source": [
    "# Reshape - keras - keep the same structure as the layer above\n",
    "model.add(Reshape([11008000]))\n",
    "model.add(Reshape([8,1376000]))"
   ]
  },
  {
   "cell_type": "code",
   "execution_count": null,
   "metadata": {},
   "outputs": [],
   "source": [
    "# replacing class labels again - now we have a 3D array so had to remove :, from the data_y \n",
    "new_data_y = np.copy(data_y2[:,:,0])\n",
    "new_data_y = replace_values(new_data_y, class_labels_1, 1000.)\n",
    "new_data_y = replace_values(new_data_y, class_labels_2, 2000.)\n",
    "new_data_y = replace_values(new_data_y, class_labels_3, 3000.)\n",
    "new_data_y = replace_values(new_data_y, class_labels_4, 4000.)\n",
    "new_data_y = replace_values(new_data_y, class_labels_5, 5000.)\n",
    "new_data_y = replace_values(new_data_y, class_labels_6, 6000.)\n",
    "new_data_y = replace_values(new_data_y, class_labels_7, 7000.)  \n",
    "new_data_y = replace_values(new_data_y, class_labels_8, 8000.)\n",
    "\n",
    "#Divide by 1000 and subtract 1 to get results 0 to 7\n",
    "new_data_y = np.divide(new_data_y, 1000.) -1\n",
    "# Convert 1-dimensional class arrays to 4-dimensional class matrices\n",
    "from keras.utils import np_utils\n",
    "new_data_y = np_utils.to_categorical(new_data_y, cls)"
   ]
  },
  {
   "cell_type": "code",
   "execution_count": null,
   "metadata": {},
   "outputs": [],
   "source": [
    "#seperates out the classes\n",
    "data_x20 = xtest2[0,:,:,:]\n",
    "data_x21 = xtest2[1,:,:,:]\n",
    "data_y20 = ytest2[0,:,:,:]\n",
    "data_y21 = ytest2[1,:,:,:]"
   ]
  },
  {
   "cell_type": "code",
   "execution_count": null,
   "metadata": {},
   "outputs": [],
   "source": [
    "# resize the data\n",
    "data_y_output = data_y20.reshape((2004, 1376, 8))"
   ]
  },
  {
   "cell_type": "code",
   "execution_count": null,
   "metadata": {},
   "outputs": [],
   "source": []
  },
  {
   "cell_type": "code",
   "execution_count": null,
   "metadata": {},
   "outputs": [],
   "source": []
  },
  {
   "cell_type": "code",
   "execution_count": null,
   "metadata": {},
   "outputs": [],
   "source": []
  }
 ],
 "metadata": {
  "kernelspec": {
   "display_name": "Python 3",
   "language": "python",
   "name": "python3"
  },
  "language_info": {
   "codemirror_mode": {
    "name": "ipython",
    "version": 3
   },
   "file_extension": ".py",
   "mimetype": "text/x-python",
   "name": "python",
   "nbconvert_exporter": "python",
   "pygments_lexer": "ipython3",
   "version": "3.5.3"
  }
 },
 "nbformat": 4,
 "nbformat_minor": 2
}
