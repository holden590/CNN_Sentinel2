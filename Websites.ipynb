{
 "cells": [
  {
   "cell_type": "markdown",
   "metadata": {},
   "source": [
    "# Useful Websites"
   ]
  },
  {
   "cell_type": "markdown",
   "metadata": {},
   "source": [
    "## Basic starting points\n",
    "\n",
    "Skydippers CNN code - building blocks which the rest of this has been built off - https://github.com/Skydipper/cnn-models\n",
    "\n",
    "GEE - Sentinel 2 website - ([Sentinel 2](https://developers.google.com/earth-engine/datasets/catalog/COPERNICUS_S2)). \n",
    "\n",
    "Crop Data Later - ([Crop_Data_Layer](https://developers.google.com/earth-engine/datasets/catalog/USDA_NASS_CDL))\n",
    "\n",
    "## Visualisations\n",
    "\n",
    "Useful for creating visualisations of the model and confusion matrix - https://www.kaggle.com/amarjeet007/visualize-cnn-with-keras/notebook\n",
    "\n",
    "ann-vis - very pretty visualisations of CNN - if you can get it working - https://github.com/Prodicode/ann-visualizer cant get ann_visualizer to install\n",
    "\n",
    "Visialise CNN - including showing the visualisation layers - https://www.codeastar.com/visualize-convolutional-neural-network/\n",
    "\n",
    "Includes how to generate a flow chart of the model - https://machinelearningmastery.com/visualize-deep-learning-neural-network-model-keras/\n",
    "\n",
    "Interesting histograms and adding legends to charts - https://www.earthdatascience.org/courses/earth-analytics-python/lidar-raster-data/classify-plot-raster-data-in-python/\n",
    "\n",
    "visualising CNN - https://towardsdatascience.com/visualizing-artificial-neural-networks-anns-with-just-one-line-of-code-b4233607209e\n",
    "\n",
    "Useful seaborn chart examples - https://elitedatascience.com/python-seaborn-tutorial\n",
    "\n",
    "## Keras\n",
    "\n",
    "Introduction to CNN in Keras - https://www.kaggle.com/yassineghouzam/introduction-to-cnn-keras-0-997-top-6\n",
    "\n",
    "Visualising CNN in Keras - includes confusion matrix - https://www.kaggle.com/amarjeet007/visualize-cnn-with-keras\n",
    "\n",
    "Learning Rate Schedules and Adaptive Learning Rate Methods - https://towardsdatascience.com/learning-rate-schedules-and-adaptive-learning-rate-methods-for-deep-learning-2c8f433990d1\n",
    "\n",
    "Difference between a batch and and Epoch - https://machinelearningmastery.com/difference-between-a-batch-and-an-epoch/\n",
    "\n",
    "Reshaping - https://www.kaggle.com/yassineghouzam/introduction-to-cnn-keras-0-997-top-6\n",
    "\n",
    "Here we define a neural network with two hidden layers with `relu` nonlinearities. https://keras.io/getting-started/sequential-model-guide/\n",
    "\n",
    "Another showing what dense is - https://github.com/keras-team/keras/issues/2645\n",
    "\n",
    "Good answer explaining how the data flows through the models - https://stackoverflow.com/questions/48641189/fitting-3d-data-as-input-into-keras-sequential-model-layer\n",
    "\n",
    "May need to add transpose into the model - https://machinelearningmastery.com/upsampling-and-transpose-convolution-layers-for-generative-adversarial-networks/\n",
    "\n",
    "reshaping the data suggested from the below \n",
    "https://stackoverflow.com/questions/47665391/keras-valueerror-input-0-is-incompatible-with-layer-conv2d-1-expected-ndim-4?rq=1\n",
    "\n",
    "good simple intro blog - https://missinglink.ai/guides/deep-learning-frameworks/keras-conv2d-working-cnn-2d-convolutions-keras/\n",
    "\n",
    "Attempt at a 3D Model - https://github.com/tavgreen/landuse_classification/blob/master/CNN_LandUse.py\n",
    "\n",
    "32 filters applied ot the model at the start - https://www.pyimagesearch.com/2018/12/31/keras-conv2d-and-convolutional-layers/\n",
    "\n",
    "## CNN Specific\n",
    "\n",
    "Simple intro to CNN - https://towardsdatascience.com/simple-introduction-to-convolutional-neural-networks-cdf8d3077bac\n",
    "\n",
    "Advanced into to CNN... - https://towardsdatascience.com/advanced-topics-in-deep-convolutional-neural-networks-71ef1190522d\n",
    "\n",
    "Good intro to Neural Networks - https://towardsdatascience.com/understanding-neural-networks-from-neuron-to-rnn-cnn-and-deep-learning-cd88e90e0a90\n",
    "\n",
    "11 line CNN - https://adventuresinmachinelearning.com/keras-tutorial-cnn-11-lines/\n",
    "\n",
    "CNN - https://towardsdatascience.com/building-a-convolutional-neural-network-cnn-in-keras-329fbbadc\n",
    "\n",
    "\n",
    "\n",
    "## Stackoverflow \n",
    "\n",
    "https://stats.stackexchange.com/questions/153531/what-is-batch-size-in-neural-network\n",
    "\n",
    "## General Code Help \n",
    "\n",
    "Split the array in half along the y axis - https://docs.scipy.org/doc/numpy/reference/generated/numpy.split.html\n"
   ]
  },
  {
   "cell_type": "code",
   "execution_count": null,
   "metadata": {},
   "outputs": [],
   "source": []
  }
 ],
 "metadata": {
  "kernelspec": {
   "display_name": "Python 3",
   "language": "python",
   "name": "python3"
  },
  "language_info": {
   "codemirror_mode": {
    "name": "ipython",
    "version": 3
   },
   "file_extension": ".py",
   "mimetype": "text/x-python",
   "name": "python",
   "nbconvert_exporter": "python",
   "pygments_lexer": "ipython3",
   "version": "3.5.3"
  }
 },
 "nbformat": 4,
 "nbformat_minor": 2
}
